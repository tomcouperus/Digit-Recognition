{
 "cells": [
  {
   "cell_type": "code",
   "execution_count": 317,
   "metadata": {},
   "outputs": [],
   "source": [
    "# General\n",
    "import numpy as np\n",
    "import matplotlib.pyplot as plt\n",
    "import time\n",
    "\n",
    "# Linear regression\n",
    "import sklearn.linear_model\n",
    "\n",
    "# CNN\n",
    "import torch\n",
    "from torch import nn, cuda\n",
    "from torch.utils.data import DataLoader, Dataset"
   ]
  },
  {
   "attachments": {},
   "cell_type": "markdown",
   "metadata": {},
   "source": [
    "# Data preprocessing"
   ]
  },
  {
   "cell_type": "code",
   "execution_count": 318,
   "metadata": {},
   "outputs": [],
   "source": [
    "# Load digits array from file\n",
    "# File is formatted 200 rows per digit, each row representing a 15x16 grayscale image\n",
    "digits = np.loadtxt('ProjectDigits_materials/mfeat-pix.txt', usecols=range(240))"
   ]
  },
  {
   "cell_type": "code",
   "execution_count": 319,
   "metadata": {},
   "outputs": [
    {
     "data": {
      "text/plain": [
       "<matplotlib.image.AxesImage at 0x169241850>"
      ]
     },
     "execution_count": 319,
     "metadata": {},
     "output_type": "execute_result"
    },
    {
     "data": {
      "image/png": "[encoded data removed]",
      "text/plain": [
       "<Figure size 640x480 with 1 Axes>"
      ]
     },
     "metadata": {},
     "output_type": "display_data"
    }
   ],
   "source": [
    "plt.imshow(digits[0].reshape(16,15), cmap='gray')"
   ]
  },
  {
   "cell_type": "code",
   "execution_count": 320,
   "metadata": {},
   "outputs": [],
   "source": [
    "# Zero pad the data on the sides for nice and square images\n",
    "# Added benefit is 2 variations of each input\n",
    "vars_per_sample = 2 # Amount of variations of each digits sample\n",
    "varied_digits = np.empty([digits.__len__() * vars_per_sample, 16, 16])\n",
    "for i in range(digits.__len__()):\n",
    "    varied_digits[vars_per_sample*i] = np.pad(digits[i].reshape(16,15), [(0,0), (1,0)], mode='constant', constant_values=0)\n",
    "    varied_digits[vars_per_sample*i + 1] = np.pad(digits[i].reshape(16,15), [(0,0), (0,1)], mode='constant', constant_values=0)"
   ]
  },
  {
   "cell_type": "code",
   "execution_count": 321,
   "metadata": {},
   "outputs": [],
   "source": [
    "# Split the data in train and test data, 50/50\n",
    "# TODO Train data is to be split further into train and validate data, \n",
    "# so we can keep test data in a vault.\n",
    "# TODO Train data is to be augmented by shifting in the 8 cardinal directions \n",
    "# so the training set is larger. Left and right are already done above\n",
    "\n",
    "x_train = np.empty([0, 16, 16])\n",
    "y_train = np.empty(0)\n",
    "y_train_one_hot = np.empty([0, 10])\n",
    "x_test = np.empty([0, 16, 16])\n",
    "y_test = np.empty(0)\n",
    "y_test_one_hot = np.empty([0, 10])\n",
    "\n",
    "varied_digits_per_digit = np.array(np.split(varied_digits, 10))\n",
    "\n",
    "for d in range(10):\n",
    "    [d_train, d_test] = np.array(np.split(varied_digits_per_digit[d], 2))\n",
    "    x_train = np.concatenate((x_train, d_train))\n",
    "    x_test = np.concatenate((x_test, d_test))\n",
    "    y_train = np.concatenate((y_train, np.full(d_train.__len__(), d)))\n",
    "    y_test = np.concatenate((y_test, np.full(d_test.__len__(), d)))\n",
    "\n",
    "    one_hot = np.zeros(10)\n",
    "    one_hot[d] = 1\n",
    "    y_train_one_hot = np.concatenate((y_train_one_hot, np.tile(one_hot, (d_train.__len__(), 1))))\n",
    "    y_test_one_hot = np.concatenate((y_test_one_hot, np.tile(one_hot, (d_test.__len__(), 1))))\n",
    "\n",
    "# Normalize the input to be in [0,1]\n",
    "x_train = x_train / x_train.max()\n",
    "x_test = x_test / x_test.max()"
   ]
  },
  {
   "attachments": {},
   "cell_type": "markdown",
   "metadata": {},
   "source": [
    "# Linear regression\n",
    "A basic linear regression to sanity check results from CNN"
   ]
  },
  {
   "cell_type": "code",
   "execution_count": 322,
   "metadata": {},
   "outputs": [],
   "source": [
    "# Flatten the data\n",
    "x_train_flat = np.reshape(x_train, (x_train.__len__(), -1))\n",
    "x_test_flat = np.reshape(x_test, (x_test.__len__(), -1))"
   ]
  },
  {
   "cell_type": "code",
   "execution_count": 323,
   "metadata": {},
   "outputs": [
    {
     "name": "stdout",
     "output_type": "stream",
     "text": [
      "train: 0.9815\n",
      "test: 0.957\n"
     ]
    }
   ],
   "source": [
    "# Teach basic linear regression with train data, test with test data\n",
    "lr = sklearn.linear_model.LogisticRegression(solver='saga', tol=0.1)\n",
    "lr = lr.fit(x_train_flat, y_train)\n",
    "\n",
    "print(f'train: {lr.score(x_train_flat, y_train)}')\n",
    "print(f'test: {lr.score(x_test_flat, y_test)}')"
   ]
  },
  {
   "attachments": {},
   "cell_type": "markdown",
   "metadata": {},
   "source": [
    "# CNN"
   ]
  },
  {
   "attachments": {},
   "cell_type": "markdown",
   "metadata": {},
   "source": [
    "## Pytorch preprocessing"
   ]
  },
  {
   "cell_type": "code",
   "execution_count": 324,
   "metadata": {},
   "outputs": [],
   "source": [
    "# Special torch arrays\n",
    "# Taken from mnist_keras_pytorch.ipynb from tutorial\n",
    "torch_x_train = torch.from_numpy(x_train)\n",
    "torch_y_train = torch.from_numpy(y_train_one_hot)\n",
    "torch_x_test = torch.from_numpy(x_test)\n",
    "torch_y_test = torch.from_numpy(y_test_one_hot)"
   ]
  },
  {
   "cell_type": "code",
   "execution_count": 325,
   "metadata": {},
   "outputs": [],
   "source": [
    "# Torch datasets\n",
    "# Taken from mnist_keras_pytorch.ipynb from tutorial\n",
    "class DigitsDataset(Dataset):\n",
    "    def __init__(self, X, Y):\n",
    "        self.X = X\n",
    "        self.Y = Y\n",
    "\n",
    "    def __len__(self):\n",
    "        return len(self.Y)\n",
    "    \n",
    "    def __getitem__(self, index):\n",
    "        X = self.X[index].float()\n",
    "        Y = self.Y[index].long()\n",
    "        return X,Y\n",
    "    \n",
    "train_dataset = DigitsDataset(torch_x_train, torch_y_train)\n",
    "test_dataset = DigitsDataset(torch_x_test, torch_y_test)"
   ]
  },
  {
   "cell_type": "code",
   "execution_count": 326,
   "metadata": {},
   "outputs": [],
   "source": [
    "# Torch dataloader\n",
    "# Taken from mnist_keras_pytorch.ipynb from tutorial\n",
    "if cuda.is_available():\n",
    "    loader_args = dict(shuffle=True, batch_size=256, num_workers=8, pin_memory=True)\n",
    "else:\n",
    "    loader_args = dict(shuffle=True, batch_size=1)\n",
    "\n",
    "train_loader = DataLoader(train_dataset, **loader_args)\n",
    "test_loader = DataLoader(test_dataset, **loader_args)"
   ]
  },
  {
   "attachments": {},
   "cell_type": "markdown",
   "metadata": {},
   "source": [
    "## Epochs setup"
   ]
  },
  {
   "cell_type": "code",
   "execution_count": 327,
   "metadata": {},
   "outputs": [],
   "source": [
    "# Taken from mnist_keras_pytorch.ipynb from tutorial\n",
    "def train_epoch(model, train_loader, criterion, optimizer):\n",
    "    model.train()\n",
    "\n",
    "    running_loss = 0.0\n",
    "    \n",
    "    start_time = time.time()\n",
    "    for batch_idx, (data, target) in enumerate(train_loader):   \n",
    "        optimizer.zero_grad()   # .backward() accumulates gradients\n",
    "        data = data.to(device)\n",
    "        target = target.to(device) # all data & model on same device\n",
    "\n",
    "        outputs = model(data)\n",
    "        loss = criterion(outputs, target)\n",
    "        running_loss += loss.item()\n",
    "\n",
    "        loss.backward()\n",
    "        optimizer.step()\n",
    "    \n",
    "    end_time = time.time()\n",
    "    \n",
    "    running_loss /= len(train_loader)\n",
    "    print('Training Loss: ', running_loss, 'Time: ',end_time - start_time, 's')\n",
    "    return running_loss"
   ]
  },
  {
   "cell_type": "code",
   "execution_count": 328,
   "metadata": {},
   "outputs": [],
   "source": [
    "# Taken from mnist_keras_pytorch.ipynb from tutorial\n",
    "def test_model(model, test_loader, criterion):\n",
    "    with torch.no_grad():\n",
    "        model.eval()\n",
    "\n",
    "        running_loss = 0.0\n",
    "        total_predictions = 0.0\n",
    "        correct_predictions = 0.0\n",
    "\n",
    "        for batch_idx, (data, target) in enumerate(test_loader):   \n",
    "            data = data.to(device)\n",
    "            target = target.to(device)\n",
    "\n",
    "            outputs = model(data)\n",
    "\n",
    "            _, predicted = torch.max(outputs.data, 1)\n",
    "            total_predictions += target.size(0)\n",
    "            correct_predictions += (predicted == target).sum().item()\n",
    "\n",
    "            loss = criterion(outputs, target).detach()\n",
    "            running_loss += loss.item()\n",
    "\n",
    "        running_loss /= len(test_loader)\n",
    "        acc = (correct_predictions/total_predictions)*100.0\n",
    "        print('Testing Loss: ', running_loss)\n",
    "        print('Testing Accuracy: ', acc, '%')\n",
    "        return running_loss, acc"
   ]
  },
  {
   "cell_type": "code",
   "execution_count": 329,
   "metadata": {},
   "outputs": [],
   "source": [
    "def train_model(model, train_loader, test_loader, criterion, optimizer, epochs=10):\n",
    "    Train_loss = []\n",
    "    Test_loss = []\n",
    "    Test_acc = []\n",
    "\n",
    "    for i in range(epochs):\n",
    "        train_loss = train_epoch(model, train_loader, criterion, optimizer)\n",
    "        test_loss, test_acc = test_model(model, test_loader, criterion)\n",
    "        Train_loss.append(train_loss)\n",
    "        Test_loss.append(test_loss)\n",
    "        Test_acc.append(test_acc)\n",
    "        print('='*20)\n",
    "\n",
    "    return Train_loss, Test_loss, Test_acc"
   ]
  },
  {
   "attachments": {},
   "cell_type": "markdown",
   "metadata": {},
   "source": [
    "## Network attempts\n",
    "https://madebyollin.github.io/convnet-calculator/ can come in very handy when determining the trainable parameters for a convolution layer."
   ]
  },
  {
   "attachments": {},
   "cell_type": "markdown",
   "metadata": {},
   "source": [
    "### LeNet-5-like network\n",
    "The LeNet-5 architecture was the first successfully trained CNN - it was even designed for the task we're doing, but on images of 28x28 (hence the \"-like\").\n",
    "\n",
    "Its architecture is as follows:\n",
    "1. Input (1@16x16)\n",
    "2. Convolution -- (6@16x16)\n",
    "3. Average pool -- (6@8x8)\n",
    "4. Convolution -- (16@6x6)\n",
    "5. Average pool -- (16@3x3)\n",
    "6. Fully connected layer -- 120 nodes\n",
    "7. Fully connected layer -- 84 nodes\n",
    "8. Fully connected output -- one-hot encoding"
   ]
  },
  {
   "cell_type": "code",
   "execution_count": 330,
   "metadata": {},
   "outputs": [
    {
     "name": "stdout",
     "output_type": "stream",
     "text": [
      "Sequential(\n",
      "  (0): Conv2d(1, 6, kernel_size=(5, 5), stride=(1, 1), padding=(2, 2))\n",
      "  (1): Sigmoid()\n",
      "  (2): AvgPool2d(kernel_size=2, stride=2, padding=0)\n",
      "  (3): Conv2d(6, 16, kernel_size=(3, 3), stride=(1, 1))\n",
      "  (4): Sigmoid()\n",
      "  (5): AvgPool2d(kernel_size=2, stride=2, padding=0)\n",
      "  (6): Flatten(start_dim=0, end_dim=2)\n",
      "  (7): Linear(in_features=144, out_features=120, bias=True)\n",
      "  (8): Sigmoid()\n",
      "  (9): Linear(in_features=120, out_features=84, bias=True)\n",
      "  (10): Sigmoid()\n",
      "  (11): Linear(in_features=84, out_features=10, bias=True)\n",
      ")\n"
     ]
    }
   ],
   "source": [
    "leNet5 = nn.Sequential(\n",
    "    nn.Conv2d(in_channels=1, out_channels=6, kernel_size=5, padding=2), nn.Sigmoid(),\n",
    "    nn.AvgPool2d(kernel_size=2, stride=2),\n",
    "    nn.Conv2d(in_channels=6, out_channels=16, kernel_size=3), nn.Sigmoid(),\n",
    "    nn.AvgPool2d(kernel_size=2, stride=2),\n",
    "    nn.Flatten(0,2),\n",
    "    nn.Linear(in_features=144, out_features=120), nn.Sigmoid(),\n",
    "    nn.Linear(in_features=120, out_features=84), nn.Sigmoid(),\n",
    "    nn.Linear(in_features=84, out_features=10)\n",
    ")\n",
    "\n",
    "criterion = nn.CrossEntropyLoss()\n",
    "optimizer = torch.optim.Adam(leNet5.parameters())\n",
    "\n",
    "print(leNet5)"
   ]
  },
  {
   "cell_type": "code",
   "execution_count": 331,
   "metadata": {},
   "outputs": [
    {
     "ename": "RuntimeError",
     "evalue": "0D or 1D target tensor expected, multi-target not supported",
     "output_type": "error",
     "traceback": [
      "\u001b[0;31m---------------------------------------------------------------------------\u001b[0m",
      "\u001b[0;31mRuntimeError\u001b[0m                              Traceback (most recent call last)",
      "Cell \u001b[0;32mIn[331], line 4\u001b[0m\n\u001b[1;32m      1\u001b[0m device \u001b[39m=\u001b[39m torch\u001b[39m.\u001b[39mdevice(\u001b[39m'\u001b[39m\u001b[39mcuda\u001b[39m\u001b[39m'\u001b[39m \u001b[39mif\u001b[39;00m cuda\u001b[39m.\u001b[39mis_available() \u001b[39melse\u001b[39;00m \u001b[39m'\u001b[39m\u001b[39mcpu\u001b[39m\u001b[39m'\u001b[39m)\n\u001b[1;32m      2\u001b[0m leNet5\u001b[39m.\u001b[39mto(device)\n\u001b[0;32m----> 4\u001b[0m train_loss, test_loss, test_acc \u001b[39m=\u001b[39m train_model(leNet5, train_loader, test_loader, criterion, optimizer)\n",
      "Cell \u001b[0;32mIn[329], line 7\u001b[0m, in \u001b[0;36mtrain_model\u001b[0;34m(model, train_loader, test_loader, criterion, optimizer, epochs)\u001b[0m\n\u001b[1;32m      4\u001b[0m Test_acc \u001b[39m=\u001b[39m []\n\u001b[1;32m      6\u001b[0m \u001b[39mfor\u001b[39;00m i \u001b[39min\u001b[39;00m \u001b[39mrange\u001b[39m(epochs):\n\u001b[0;32m----> 7\u001b[0m     train_loss \u001b[39m=\u001b[39m train_epoch(model, train_loader, criterion, optimizer)\n\u001b[1;32m      8\u001b[0m     test_loss, test_acc \u001b[39m=\u001b[39m test_model(model, test_loader, criterion)\n\u001b[1;32m      9\u001b[0m     Train_loss\u001b[39m.\u001b[39mappend(train_loss)\n",
      "Cell \u001b[0;32mIn[327], line 14\u001b[0m, in \u001b[0;36mtrain_epoch\u001b[0;34m(model, train_loader, criterion, optimizer)\u001b[0m\n\u001b[1;32m     11\u001b[0m target \u001b[39m=\u001b[39m target\u001b[39m.\u001b[39mto(device) \u001b[39m# all data & model on same device\u001b[39;00m\n\u001b[1;32m     13\u001b[0m outputs \u001b[39m=\u001b[39m model(data)\n\u001b[0;32m---> 14\u001b[0m loss \u001b[39m=\u001b[39m criterion(outputs, target)\n\u001b[1;32m     15\u001b[0m running_loss \u001b[39m+\u001b[39m\u001b[39m=\u001b[39m loss\u001b[39m.\u001b[39mitem()\n\u001b[1;32m     17\u001b[0m loss\u001b[39m.\u001b[39mbackward()\n",
      "File \u001b[0;32m~/School/RUG/BSc_Year3/Neural Networks/.venv/lib/python3.11/site-packages/torch/nn/modules/module.py:1501\u001b[0m, in \u001b[0;36mModule._call_impl\u001b[0;34m(self, *args, **kwargs)\u001b[0m\n\u001b[1;32m   1496\u001b[0m \u001b[39m# If we don't have any hooks, we want to skip the rest of the logic in\u001b[39;00m\n\u001b[1;32m   1497\u001b[0m \u001b[39m# this function, and just call forward.\u001b[39;00m\n\u001b[1;32m   1498\u001b[0m \u001b[39mif\u001b[39;00m \u001b[39mnot\u001b[39;00m (\u001b[39mself\u001b[39m\u001b[39m.\u001b[39m_backward_hooks \u001b[39mor\u001b[39;00m \u001b[39mself\u001b[39m\u001b[39m.\u001b[39m_backward_pre_hooks \u001b[39mor\u001b[39;00m \u001b[39mself\u001b[39m\u001b[39m.\u001b[39m_forward_hooks \u001b[39mor\u001b[39;00m \u001b[39mself\u001b[39m\u001b[39m.\u001b[39m_forward_pre_hooks\n\u001b[1;32m   1499\u001b[0m         \u001b[39mor\u001b[39;00m _global_backward_pre_hooks \u001b[39mor\u001b[39;00m _global_backward_hooks\n\u001b[1;32m   1500\u001b[0m         \u001b[39mor\u001b[39;00m _global_forward_hooks \u001b[39mor\u001b[39;00m _global_forward_pre_hooks):\n\u001b[0;32m-> 1501\u001b[0m     \u001b[39mreturn\u001b[39;00m forward_call(\u001b[39m*\u001b[39;49margs, \u001b[39m*\u001b[39;49m\u001b[39m*\u001b[39;49mkwargs)\n\u001b[1;32m   1502\u001b[0m \u001b[39m# Do not call functions when jit is used\u001b[39;00m\n\u001b[1;32m   1503\u001b[0m full_backward_hooks, non_full_backward_hooks \u001b[39m=\u001b[39m [], []\n",
      "File \u001b[0;32m~/School/RUG/BSc_Year3/Neural Networks/.venv/lib/python3.11/site-packages/torch/nn/modules/loss.py:1174\u001b[0m, in \u001b[0;36mCrossEntropyLoss.forward\u001b[0;34m(self, input, target)\u001b[0m\n\u001b[1;32m   1173\u001b[0m \u001b[39mdef\u001b[39;00m \u001b[39mforward\u001b[39m(\u001b[39mself\u001b[39m, \u001b[39minput\u001b[39m: Tensor, target: Tensor) \u001b[39m-\u001b[39m\u001b[39m>\u001b[39m Tensor:\n\u001b[0;32m-> 1174\u001b[0m     \u001b[39mreturn\u001b[39;00m F\u001b[39m.\u001b[39;49mcross_entropy(\u001b[39minput\u001b[39;49m, target, weight\u001b[39m=\u001b[39;49m\u001b[39mself\u001b[39;49m\u001b[39m.\u001b[39;49mweight,\n\u001b[1;32m   1175\u001b[0m                            ignore_index\u001b[39m=\u001b[39;49m\u001b[39mself\u001b[39;49m\u001b[39m.\u001b[39;49mignore_index, reduction\u001b[39m=\u001b[39;49m\u001b[39mself\u001b[39;49m\u001b[39m.\u001b[39;49mreduction,\n\u001b[1;32m   1176\u001b[0m                            label_smoothing\u001b[39m=\u001b[39;49m\u001b[39mself\u001b[39;49m\u001b[39m.\u001b[39;49mlabel_smoothing)\n",
      "File \u001b[0;32m~/School/RUG/BSc_Year3/Neural Networks/.venv/lib/python3.11/site-packages/torch/nn/functional.py:3029\u001b[0m, in \u001b[0;36mcross_entropy\u001b[0;34m(input, target, weight, size_average, ignore_index, reduce, reduction, label_smoothing)\u001b[0m\n\u001b[1;32m   3027\u001b[0m \u001b[39mif\u001b[39;00m size_average \u001b[39mis\u001b[39;00m \u001b[39mnot\u001b[39;00m \u001b[39mNone\u001b[39;00m \u001b[39mor\u001b[39;00m reduce \u001b[39mis\u001b[39;00m \u001b[39mnot\u001b[39;00m \u001b[39mNone\u001b[39;00m:\n\u001b[1;32m   3028\u001b[0m     reduction \u001b[39m=\u001b[39m _Reduction\u001b[39m.\u001b[39mlegacy_get_string(size_average, reduce)\n\u001b[0;32m-> 3029\u001b[0m \u001b[39mreturn\u001b[39;00m torch\u001b[39m.\u001b[39;49m_C\u001b[39m.\u001b[39;49m_nn\u001b[39m.\u001b[39;49mcross_entropy_loss(\u001b[39minput\u001b[39;49m, target, weight, _Reduction\u001b[39m.\u001b[39;49mget_enum(reduction), ignore_index, label_smoothing)\n",
      "\u001b[0;31mRuntimeError\u001b[0m: 0D or 1D target tensor expected, multi-target not supported"
     ]
    }
   ],
   "source": [
    "device = torch.device('cuda' if cuda.is_available() else 'cpu')\n",
    "leNet5.to(device)\n",
    "\n",
    "train_loss, test_loss, test_acc = train_model(leNet5, train_loader, test_loader, criterion, optimizer)"
   ]
  }
 ],
 "metadata": {
  "kernelspec": {
   "display_name": ".venv",
   "language": "python",
   "name": "python3"
  },
  "language_info": {
   "codemirror_mode": {
    "name": "ipython",
    "version": 3
   },
   "file_extension": ".py",
   "mimetype": "text/x-python",
   "name": "python",
   "nbconvert_exporter": "python",
   "pygments_lexer": "ipython3",
   "version": "3.11.3"
  },
  "orig_nbformat": 4
 },
 "nbformat": 4,
 "nbformat_minor": 2
}
