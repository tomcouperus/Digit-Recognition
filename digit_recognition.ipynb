{
 "cells": [
  {
   "cell_type": "code",
   "execution_count": null,
   "metadata": {},
   "outputs": [],
   "source": [
    "# General\n",
    "import numpy as np\n",
    "import matplotlib.pyplot as plt\n",
    "import time\n",
    "\n",
    "# Linear regression\n",
    "import sklearn.linear_model\n",
    "\n",
    "# CNN\n",
    "import torch\n",
    "from torch import nn, cuda\n",
    "from torch.utils.data import DataLoader, Dataset"
   ]
  },
  {
   "attachments": {},
   "cell_type": "markdown",
   "metadata": {},
   "source": [
    "# Data preprocessing"
   ]
  },
  {
   "cell_type": "code",
   "execution_count": null,
   "metadata": {},
   "outputs": [],
   "source": [
    "# Load digits array from file\n",
    "# File is formatted 200 rows per digit, each row representing a 15x16 grayscale image\n",
    "digits = np.loadtxt('ProjectDigits_materials/mfeat-pix.txt', usecols=range(240))\n",
    "digits = digits.reshape(digits.__len__(), 16, 15)"
   ]
  },
  {
   "cell_type": "code",
   "execution_count": null,
   "metadata": {},
   "outputs": [],
   "source": [
    "plt.imshow(digits[0], cmap='gray')"
   ]
  },
  {
   "cell_type": "code",
   "execution_count": null,
   "metadata": {},
   "outputs": [],
   "source": [
    "# Split the data in train and test data, 50/50\n",
    "train_digits = np.empty([0, 16, 15])\n",
    "x_test = np.empty([0, 16, 15])\n",
    "y_test = np.empty(0)\n",
    "\n",
    "digits_per_digit = np.array(np.split(digits, 10))\n",
    "\n",
    "for d in range(10):\n",
    "    [d_train, d_test] = np.array(np.split(digits_per_digit[d], 2))\n",
    "    print(d_train.shape)\n",
    "    train_digits = np.concatenate((train_digits, d_train))\n",
    "    x_test = np.concatenate((x_test, d_test))\n",
    "    y_test = np.concatenate((y_test, np.full(d_test.__len__(), d)))"
   ]
  },
  {
   "cell_type": "code",
   "execution_count": null,
   "metadata": {},
   "outputs": [],
   "source": [
    "# Split the train data into train and validation data, 80/20\n",
    "# TODO Train data is to be augmented by shifting in the 8 cardinal directions prior to splitting\n",
    "x_train = np.empty([0, 16, 15])\n",
    "y_train = np.empty(0)\n",
    "x_validate = np.empty([0, 16, 15])\n",
    "y_validate = np.empty(0)\n",
    "\n",
    "train_digits_per_digit = np.array(np.split(train_digits, 10))\n",
    "\n",
    "for d in range(10):\n",
    "    train_digits_10_chunks = np.array(np.split(train_digits_per_digit[d], 10))\n",
    "    train_digits_8_chunks = np.concatenate(train_digits_10_chunks[:8])\n",
    "    train_digits_2_chunks = np.concatenate(train_digits_10_chunks[8:])\n",
    "\n",
    "    x_train = np.concatenate((x_train, train_digits_8_chunks))\n",
    "    x_validate = np.concatenate((x_validate, train_digits_2_chunks))\n",
    "\n",
    "    y_train = np.concatenate((y_train, np.full(train_digits_8_chunks.__len__(), d)))\n",
    "    y_validate = np.concatenate((y_validate, np.full(train_digits_2_chunks.__len__(), d)))\n"
   ]
  },
  {
   "cell_type": "code",
   "execution_count": null,
   "metadata": {},
   "outputs": [],
   "source": [
    "# Normalize the data\n",
    "x_test = x_test / x_test.max()\n",
    "x_train = x_train / x_train.max()\n",
    "x_validate = x_validate / x_train.max()"
   ]
  },
  {
   "attachments": {},
   "cell_type": "markdown",
   "metadata": {},
   "source": [
    "# Linear regression\n",
    "A basic linear regression to sanity check results from CNN"
   ]
  },
  {
   "cell_type": "code",
   "execution_count": null,
   "metadata": {},
   "outputs": [],
   "source": [
    "# Flatten the data\n",
    "x_train_flat = np.reshape(x_train, (x_train.__len__(), -1))\n",
    "x_test_flat = np.reshape(x_test, (x_test.__len__(), -1))"
   ]
  },
  {
   "cell_type": "code",
   "execution_count": null,
   "metadata": {},
   "outputs": [],
   "source": [
    "# Teach basic linear regression with train data, test with test data\n",
    "lr = sklearn.linear_model.LogisticRegression(solver='saga', tol=0.1)\n",
    "lr = lr.fit(x_train_flat, y_train)\n",
    "\n",
    "print(f'train: {lr.score(x_train_flat, y_train)}')\n",
    "print(f'test: {lr.score(x_test_flat, y_test)}')"
   ]
  },
  {
   "attachments": {},
   "cell_type": "markdown",
   "metadata": {},
   "source": [
    "# CNN"
   ]
  },
  {
   "attachments": {},
   "cell_type": "markdown",
   "metadata": {},
   "source": [
    "## Pytorch preprocessing"
   ]
  },
  {
   "cell_type": "code",
   "execution_count": null,
   "metadata": {},
   "outputs": [],
   "source": [
    "# Special torch arrays\n",
    "# Taken from mnist_keras_pytorch.ipynb from tutorial\n",
    "torch_x_train = torch.from_numpy(x_train).unsqueeze(1)\n",
    "torch_y_train = torch.from_numpy(y_train)\n",
    "torch_x_validate = torch.from_numpy(x_validate).unsqueeze(1)\n",
    "torch_y_validate = torch.from_numpy(y_validate)\n",
    "torch_x_test = torch.from_numpy(x_test).unsqueeze(1)\n",
    "torch_y_test = torch.from_numpy(y_test)"
   ]
  },
  {
   "cell_type": "code",
   "execution_count": null,
   "metadata": {},
   "outputs": [],
   "source": [
    "# Torch datasets\n",
    "# Taken from mnist_keras_pytorch.ipynb from tutorial\n",
    "class DigitsDataset(Dataset):\n",
    "    def __init__(self, X, Y):\n",
    "        self.X = X\n",
    "        self.Y = Y\n",
    "\n",
    "    def __len__(self):\n",
    "        return len(self.Y)\n",
    "    \n",
    "    def __getitem__(self, index):\n",
    "        X = self.X[index].float()\n",
    "        Y = self.Y[index].long()\n",
    "        return X,Y\n",
    "    \n",
    "train_dataset = DigitsDataset(torch_x_train, torch_y_train)\n",
    "validate_dataset = DigitsDataset(torch_x_validate, torch_y_validate)\n",
    "test_dataset = DigitsDataset(torch_x_test, torch_y_test)"
   ]
  },
  {
   "cell_type": "code",
   "execution_count": null,
   "metadata": {},
   "outputs": [],
   "source": [
    "# Torch dataloader\n",
    "# Taken from mnist_keras_pytorch.ipynb from tutorial\n",
    "if cuda.is_available():\n",
    "    loader_args = dict(shuffle=True, batch_size=256, num_workers=8, pin_memory=True)\n",
    "else:\n",
    "    loader_args = dict(shuffle=True, batch_size=64)\n",
    "\n",
    "train_loader = DataLoader(train_dataset, **loader_args)\n",
    "validate_loader = DataLoader(validate_dataset, **loader_args)\n",
    "test_loader = DataLoader(test_dataset, **loader_args)"
   ]
  },
  {
   "attachments": {},
   "cell_type": "markdown",
   "metadata": {},
   "source": [
    "## Epochs setup"
   ]
  },
  {
   "cell_type": "code",
   "execution_count": null,
   "metadata": {},
   "outputs": [],
   "source": [
    "# Taken from mnist_keras_pytorch.ipynb from tutorial\n",
    "def train_epoch(model, train_loader, criterion, optimizer, do_print=True):\n",
    "    model.train()\n",
    "\n",
    "    running_loss = 0.0\n",
    "    \n",
    "    start_time = time.time()\n",
    "    for batch_idx, (data, target) in enumerate(train_loader):   \n",
    "        optimizer.zero_grad()   # .backward() accumulates gradients\n",
    "        data = data.to(device)\n",
    "        target = target.to(device) # all data & model on same device\n",
    "        \n",
    "        outputs = model(data)\n",
    "        loss = criterion(outputs, target)\n",
    "        running_loss += loss.item()\n",
    "\n",
    "        loss.backward()\n",
    "        optimizer.step()\n",
    "    \n",
    "    end_time = time.time()\n",
    "    \n",
    "    running_loss /= len(train_loader)\n",
    "    if do_print:\n",
    "        print('Training Loss: ', running_loss, 'Time: ',end_time - start_time, 's')\n",
    "    return running_loss"
   ]
  },
  {
   "cell_type": "code",
   "execution_count": null,
   "metadata": {},
   "outputs": [],
   "source": [
    "# Taken from mnist_keras_pytorch.ipynb from tutorial\n",
    "def test_model(model, test_loader, criterion, do_print=True, testing_mode=False):\n",
    "    with torch.no_grad():\n",
    "        model.eval()\n",
    "\n",
    "        running_loss = 0.0\n",
    "        total_predictions = 0.0\n",
    "        correct_predictions = 0.0\n",
    "\n",
    "        for batch_idx, (data, target) in enumerate(test_loader):   \n",
    "            data = data.to(device)\n",
    "            target = target.to(device)\n",
    "            outputs = model(data)\n",
    "\n",
    "\n",
    "            _, predicted = torch.max(outputs.data, 1)\n",
    "            total_predictions += target.size(0)\n",
    "            correct_predictions += (predicted == target).sum().item()\n",
    "\n",
    "            loss = criterion(outputs, target).detach()\n",
    "            running_loss += loss.item()\n",
    "\n",
    "        running_loss /= len(test_loader)\n",
    "        acc = (correct_predictions/total_predictions)*100.0\n",
    "        if do_print:\n",
    "            mode = 'Testing' if testing_mode else 'Validation'\n",
    "            print(mode, ' Loss: ', running_loss)\n",
    "            print(mode, ' Accuracy: ', acc, '%')\n",
    "        return running_loss, acc"
   ]
  },
  {
   "cell_type": "code",
   "execution_count": null,
   "metadata": {},
   "outputs": [],
   "source": [
    "def train_model(model, train_loader, validate_loader, criterion, optimizer, epochs=10, print_freq=1):\n",
    "    if print_freq > 0:\n",
    "        print(model)\n",
    "    device = torch.device('cuda' if cuda.is_available() else 'cpu')\n",
    "    model.to(device)\n",
    "\n",
    "    Train_loss = []\n",
    "    Validate_loss = []\n",
    "    Validate_acc = []\n",
    "\n",
    "    for i in range(epochs):\n",
    "        do_print = print_freq > 0 and (i == 0 or (i+1) % print_freq == 0)\n",
    "        if do_print:\n",
    "            print('Epoch :', i)\n",
    "        train_loss = train_epoch(model, train_loader, criterion, optimizer, do_print=do_print)\n",
    "        validate_loss, validate_acc = test_model(model, validate_loader, criterion, do_print=do_print)\n",
    "        Train_loss.append(train_loss)\n",
    "        Validate_loss.append(validate_loss)\n",
    "        Validate_acc.append(validate_acc)\n",
    "        if do_print:\n",
    "            print('='*20)\n",
    "\n",
    "    return Train_loss, Validate_loss, Validate_acc"
   ]
  },
  {
   "attachments": {},
   "cell_type": "markdown",
   "metadata": {},
   "source": [
    "## Network attempts\n",
    "https://madebyollin.github.io/convnet-calculator/ can come in very handy when determining the trainable parameters for a convolution layer."
   ]
  },
  {
   "attachments": {},
   "cell_type": "markdown",
   "metadata": {},
   "source": [
    "### LeNet-5-like network (Tom)\n",
    "The LeNet-5 architecture was the first successfully trained CNN - it was even designed for the task we're doing, but on images of 28x28 (hence the \"-like\").\n",
    "\n",
    "Its architecture is as follows:\n",
    "1. Input (1@15x16)\n",
    "2. Convolution -- (6@15x16)\n",
    "3. Average pool -- (6@7x8)\n",
    "4. Convolution -- (16@5x6)\n",
    "5. Average pool -- (16@2x3)\n",
    "6. Fully connected layer -- 120 nodes\n",
    "7. Fully connected layer -- 84 nodes\n",
    "8. Fully connected output -- one-hot encoding"
   ]
  },
  {
   "cell_type": "code",
   "execution_count": null,
   "metadata": {},
   "outputs": [],
   "source": [
    "leNet5 = nn.Sequential(\n",
    "    nn.Conv2d(in_channels=1, out_channels=6, kernel_size=5, padding=2), nn.Sigmoid(),\n",
    "    nn.AvgPool2d(kernel_size=2, stride=2),\n",
    "    nn.Conv2d(in_channels=6, out_channels=16, kernel_size=3), nn.Sigmoid(),\n",
    "    nn.AvgPool2d(kernel_size=2, stride=2),\n",
    "    nn.Flatten(),\n",
    "    nn.Linear(in_features=96, out_features=120), nn.Sigmoid(),\n",
    "    nn.Linear(in_features=120, out_features=84), nn.Sigmoid(),\n",
    "    nn.Linear(in_features=84, out_features=10)\n",
    ")\n",
    "\n",
    "criterion = nn.CrossEntropyLoss()\n",
    "optimizer = torch.optim.Adam(leNet5.parameters())\n",
    "\n",
    "train_loss, validate_loss, validate_acc = train_model(leNet5, train_loader, validate_loader, criterion, optimizer, 20, print_freq=0)\n",
    "test_loss, test_acc = test_model(leNet5, test_loader, criterion, do_print=True, testing_mode=True)\n",
    "plt.plot(validate_acc)"
   ]
  },
  {
   "attachments": {},
   "cell_type": "markdown",
   "metadata": {},
   "source": [
    "### Tom's 2nd attempt\n",
    "\n",
    "Architecture as follows:\n",
    "1. Input (1@15x16)\n",
    "2. Convolution (1@16x16)\n",
    "3. Convolution (6@16x16)\n",
    "4. Average pool (6@8x8)\n",
    "5. FCL 240\n",
    "6. FCL 60\n",
    "7. FCL Output -- one-hot encoded"
   ]
  },
  {
   "cell_type": "code",
   "execution_count": null,
   "metadata": {},
   "outputs": [],
   "source": [
    "tom2 = nn.Sequential(\n",
    "    nn.Conv2d(in_channels=1, out_channels=1, kernel_size=(5,4), padding=2), nn.Sigmoid(),\n",
    "    nn.Conv2d(in_channels=1, out_channels=6, kernel_size=5, padding=2), nn.Sigmoid(),\n",
    "    nn.AvgPool2d(kernel_size=2, stride=2),\n",
    "    nn.Flatten(),\n",
    "    nn.Linear(in_features=384, out_features=240), nn.Sigmoid(),\n",
    "    nn.Linear(in_features=240, out_features=60), nn.Sigmoid(),\n",
    "    nn.Linear(in_features=60, out_features=10)\n",
    ")\n",
    "\n",
    "criterion = nn.CrossEntropyLoss()\n",
    "optimizer = torch.optim.Adam(tom2.parameters(), weight_decay=1e-5)\n",
    "\n",
    "train_loss, validate_loss, validate_acc = train_model(tom2, train_loader, validate_loader, criterion, optimizer, 50, print_freq=5)\n",
    "test_loss, test_acc = test_model(tom2, test_loader, criterion, do_print=True, testing_mode=True)\n",
    "plt.plot(validate_acc)"
   ]
  }
 ],
 "metadata": {
  "kernelspec": {
   "display_name": ".venv",
   "language": "python",
   "name": "python3"
  },
  "language_info": {
   "codemirror_mode": {
    "name": "ipython",
    "version": 3
   },
   "file_extension": ".py",
   "mimetype": "text/x-python",
   "name": "python",
   "nbconvert_exporter": "python",
   "pygments_lexer": "ipython3",
   "version": "3.11.3"
  },
  "orig_nbformat": 4
 },
 "nbformat": 4,
 "nbformat_minor": 2
}
