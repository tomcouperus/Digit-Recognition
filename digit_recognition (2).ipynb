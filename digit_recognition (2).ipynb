{
  "cells": [
    {
      "cell_type": "code",
      "execution_count": 208,
      "metadata": {
        "id": "xdNw9M3RLq0L"
      },
      "outputs": [],
      "source": [
        "# General\n",
        "import numpy as np\n",
        "import matplotlib.pyplot as plt\n",
        "import time\n",
        "\n",
        "# Linear regression\n",
        "import sklearn.linear_model\n",
        "\n",
        "# CNN\n",
        "import torch\n",
        "from torch import nn, cuda\n",
        "from torch.utils.data import DataLoader, Dataset\n",
        "\n",
        "# KFold\n",
        "from sklearn.model_selection import KFold"
      ]
    },
    {
      "attachments": {},
      "cell_type": "markdown",
      "metadata": {
        "id": "atmaOfgJLq0P"
      },
      "source": [
        "# Data preprocessing"
      ]
    },
    {
      "cell_type": "code",
      "execution_count": 209,
      "metadata": {
        "id": "0tuI_DVGLq0T"
      },
      "outputs": [],
      "source": [
        "# Load digits array from file\n",
        "# File is formatted 200 rows per digit, each row representing a 15x16 grayscale image\n",
        "\n",
        "digits = np.loadtxt('ProjectDigits_materials/mfeat-pix.txt', usecols=range(240))\n",
        "digits = digits.reshape(digits.__len__(), 16, 15)"
      ]
    },
    {
      "cell_type": "code",
      "execution_count": 210,
      "metadata": {
        "colab": {
          "base_uri": "https://localhost:8080/",
          "height": 447
        },
        "id": "YrBNd54iLq0U",
        "outputId": "7021948d-bf90-471f-a18a-a4123b5b8375"
      },
      "outputs": [
        {
          "data": {
            "text/plain": [
              "<matplotlib.image.AxesImage at 0x167786a10>"
            ]
          },
          "execution_count": 210,
          "metadata": {},
          "output_type": "execute_result"
        },
        {
          "data": {
            "image/png": "[encoded data removed]",
            "text/plain": [
              "<Figure size 640x480 with 1 Axes>"
            ]
          },
          "metadata": {},
          "output_type": "display_data"
        }
      ],
      "source": [
        "plt.imshow(digits[0], cmap='gray')"
      ]
    },
    {
      "cell_type": "code",
      "execution_count": 211,
      "metadata": {
        "colab": {
          "base_uri": "https://localhost:8080/"
        },
        "id": "F6re1z6bLq0U",
        "outputId": "a491b01e-b451-40bc-b098-127e95d5e123"
      },
      "outputs": [
        {
          "name": "stdout",
          "output_type": "stream",
          "text": [
            "(100, 16, 15)\n",
            "(100, 16, 15)\n",
            "(100, 16, 15)\n",
            "(100, 16, 15)\n",
            "(100, 16, 15)\n",
            "(100, 16, 15)\n",
            "(100, 16, 15)\n",
            "(100, 16, 15)\n",
            "(100, 16, 15)\n",
            "(100, 16, 15)\n"
          ]
        }
      ],
      "source": [
        "# Split the data in train and test data, 50/50\n",
        "train_digits = np.empty([0, 16, 15])\n",
        "x_test = np.empty([0, 16, 15])\n",
        "y_test = np.empty(0)\n",
        "\n",
        "digits_per_digit = np.array(np.split(digits, 10))\n",
        "\n",
        "for d in range(10):\n",
        "    [d_train, d_test] = np.array(np.split(digits_per_digit[d], 2))\n",
        "    print(d_train.shape)\n",
        "    train_digits = np.concatenate((train_digits, d_train))\n",
        "    x_test = np.concatenate((x_test, d_test))\n",
        "    y_test = np.concatenate((y_test, np.full(d_test.__len__(), d)))"
      ]
    },
    {
      "cell_type": "code",
      "execution_count": 212,
      "metadata": {
        "id": "p7OQe33vLq0V"
      },
      "outputs": [],
      "source": [
        "# Train data is augmented by shifting in the 8 cardinal directions\n",
        "x_train_augmented = np.empty([0, 16, 15])\n",
        "y_train_augmented = np.empty(0)\n",
        "\n",
        "train_digits_per_digit = np.array(np.split(train_digits, 10))\n",
        "\n",
        "for d in range(10):\n",
        "    train_digits_10_chunks = np.array(np.split(train_digits_per_digit[d], 10))\n",
        "    train_digits_10_chunks = np.concatenate(train_digits_10_chunks[:10])\n",
        "    # Perform data augmentation by shifting in 8 cardinal directions\n",
        "    for dx in [-1, 0, 1]:\n",
        "        for dy in [-1, 0, 1]:\n",
        "            if dx == 0 and dy == 0:\n",
        "                continue  # skip the original data\n",
        "            shifted_digits = np.roll(train_digits_10_chunks, (dx, dy), axis=(1, 2)) #roll used to shift the data\n",
        "            x_train_augmented = np.concatenate((x_train_augmented, shifted_digits))\n",
        "            y_train_augmented = np.concatenate((y_train_augmented, np.full(shifted_digits.shape[0], d)))\n",
        "            #labels for the augmenteddata created using np.full to fill an array of the same length"
      ]
    },
    {
      "cell_type": "code",
      "execution_count": 213,
      "metadata": {
        "id": "4bQLjmi7Lq0V"
      },
      "outputs": [],
      "source": [
        "# Normalize the data\n",
        "x_test = x_test / x_test.max()\n",
        "x_train_augmented = x_train_augmented / x_train_augmented.max()"
      ]
    },
    {
      "attachments": {},
      "cell_type": "markdown",
      "metadata": {
        "id": "HY1sDGRQLq0W"
      },
      "source": [
        "# Linear regression\n",
        "A basic linear regression to sanity check results from CNN"
      ]
    },
    {
      "cell_type": "code",
      "execution_count": 214,
      "metadata": {
        "id": "iq9fEdJrLq0W"
      },
      "outputs": [],
      "source": [
        "# Flatten the data\n",
        "x_train_flat = np.reshape(x_train_augmented, (x_train_augmented.__len__(), -1))\n",
        "x_test_flat = np.reshape(x_test, (x_test.__len__(), -1))"
      ]
    },
    {
      "cell_type": "code",
      "execution_count": 215,
      "metadata": {
        "colab": {
          "base_uri": "https://localhost:8080/"
        },
        "id": "9-rvKeD0Lq0W",
        "outputId": "f83219ed-83c9-4243-8bb5-faa46fa6a322"
      },
      "outputs": [
        {
          "name": "stdout",
          "output_type": "stream",
          "text": [
            "train: 0.945125\n",
            "test: 0.959\n"
          ]
        }
      ],
      "source": [
        "# Teach basic linear regression with train data, test with test data\n",
        "lr = sklearn.linear_model.LogisticRegression(solver='saga', tol=0.1)\n",
        "lr = lr.fit(x_train_flat, y_train_augmented)\n",
        "\n",
        "print(f'train: {lr.score(x_train_flat, y_train_augmented)}')\n",
        "print(f'test: {lr.score(x_test_flat, y_test)}')"
      ]
    },
    {
      "attachments": {},
      "cell_type": "markdown",
      "metadata": {
        "id": "pkvDQYZFLq0X"
      },
      "source": [
        "# CNN"
      ]
    },
    {
      "attachments": {},
      "cell_type": "markdown",
      "metadata": {
        "id": "HOQAnMk6Lq0X"
      },
      "source": [
        "## Pytorch preprocessing"
      ]
    },
    {
      "cell_type": "code",
      "execution_count": 216,
      "metadata": {},
      "outputs": [],
      "source": [
        "device = torch.device('cuda' if cuda.is_available() else 'cpu')"
      ]
    },
    {
      "cell_type": "code",
      "execution_count": 217,
      "metadata": {
        "id": "csWMMSfXLq0X"
      },
      "outputs": [],
      "source": [
        "# Special torch arrays\n",
        "# Taken from mnist_keras_pytorch.ipynb from tutorial\n",
        "torch_x_train = torch.from_numpy(x_train_augmented).unsqueeze(1)\n",
        "torch_y_train = torch.from_numpy(y_train_augmented)\n",
        "\n",
        "torch_x_test = torch.from_numpy(x_test).unsqueeze(1)\n",
        "torch_y_test = torch.from_numpy(y_test)"
      ]
    },
    {
      "cell_type": "code",
      "execution_count": 218,
      "metadata": {
        "id": "dFgOQxeYLq0X"
      },
      "outputs": [],
      "source": [
        "# Torch datasets\n",
        "# Taken from mnist_keras_pytorch.ipynb from tutorial\n",
        "class DigitsDataset(Dataset):\n",
        "    def __init__(self, X, Y):\n",
        "        self.X = X\n",
        "        self.Y = Y\n",
        "\n",
        "    def __len__(self):\n",
        "        return len(self.Y)\n",
        "\n",
        "    def __getitem__(self, index):\n",
        "        X = self.X[index].float()\n",
        "        Y = self.Y[index].long()\n",
        "        return X,Y\n",
        "\n",
        "train_dataset = DigitsDataset(torch_x_train, torch_y_train)\n",
        "\n",
        "test_dataset = DigitsDataset(torch_x_test, torch_y_test)"
      ]
    },
    {
      "cell_type": "code",
      "execution_count": 219,
      "metadata": {
        "id": "UpLUHi9ALq0Y"
      },
      "outputs": [],
      "source": [
        "# Torch dataloader\n",
        "# Taken from mnist_keras_pytorch.ipynb from tutorial\n",
        "if cuda.is_available():\n",
        "    loader_args = dict(shuffle=True, batch_size=256, num_workers=8, pin_memory=True)\n",
        "else:\n",
        "    loader_args = dict(shuffle=True, batch_size=64)\n",
        "\n",
        "train_loader = DataLoader(train_dataset, **loader_args)\n",
        "\n",
        "test_loader = DataLoader(test_dataset, **loader_args)"
      ]
    },
    {
      "attachments": {},
      "cell_type": "markdown",
      "metadata": {
        "id": "O7837lcfLq0Y"
      },
      "source": [
        "## Epochs setup"
      ]
    },
    {
      "cell_type": "code",
      "execution_count": 220,
      "metadata": {
        "id": "3n5A3-HQLq0Z"
      },
      "outputs": [],
      "source": [
        "# Taken from mnist_keras_pytorch.ipynb from tutorial\n",
        "def train_epoch(model, train_loader, criterion, optimizer, device, do_print=True):\n",
        "    model.train()\n",
        "\n",
        "    running_loss = 0.0\n",
        "\n",
        "    start_time = time.time()\n",
        "    for batch_idx, (data, target) in enumerate(train_loader):\n",
        "        optimizer.zero_grad()   # .backward() accumulates gradients\n",
        "        data = data.to(device)\n",
        "        target = target.to(device) # all data & model on same device\n",
        "\n",
        "        outputs = model(data)\n",
        "        loss = criterion(outputs, target)\n",
        "        running_loss += loss.item()\n",
        "\n",
        "        loss.backward()\n",
        "        optimizer.step()\n",
        "\n",
        "    end_time = time.time()\n",
        "\n",
        "    running_loss /= len(train_loader)\n",
        "    if do_print:\n",
        "        print('Training Loss: ', running_loss, 'Time: ',end_time - start_time, 's')\n",
        "    return running_loss"
      ]
    },
    {
      "cell_type": "code",
      "execution_count": 221,
      "metadata": {
        "id": "yfHJ593GLq0Z"
      },
      "outputs": [],
      "source": [
        "\n",
        "# Taken from mnist_keras_pytorch.ipynb from tutorial\n",
        "def test_model(model, test_loader, criterion, device, testing_mode=False, do_print=True):\n",
        "    with torch.no_grad():\n",
        "        model.eval()\n",
        "\n",
        "        running_loss = 0.0\n",
        "        total_predictions = 0.0\n",
        "        correct_predictions = 0.0\n",
        "\n",
        "        for batch_idx, (data, target) in enumerate(test_loader):\n",
        "            data = data.to(device)\n",
        "            target = target.to(device)\n",
        "            outputs = model(data)\n",
        "\n",
        "\n",
        "            _, predicted = torch.max(outputs.data, 1)\n",
        "            total_predictions += target.size(0)\n",
        "            correct_predictions += (predicted == target).sum().item()\n",
        "\n",
        "            loss = criterion(outputs, target).detach()\n",
        "            running_loss += loss.item()\n",
        "\n",
        "        running_loss /= len(test_loader)\n",
        "        acc = (correct_predictions/total_predictions)*100.0\n",
        "        if do_print:\n",
        "            mode = 'Testing' if testing_mode else 'Validation'\n",
        "            print(mode, ' Loss: ', running_loss)\n",
        "            print(mode, ' Accuracy: ', acc, '%')\n",
        "        return running_loss, acc"
      ]
    },
    {
      "cell_type": "code",
      "execution_count": 222,
      "metadata": {
        "id": "rqKJogpvLq0Z"
      },
      "outputs": [],
      "source": [
        "def train_model(model, train_loader, check_loader, criterion, optimizer, device, epochs=10, testing_mode=False, print_freq=1):\n",
        "    if print_freq > 0:\n",
        "        print(model)\n",
        "    model.to(device)\n",
        "\n",
        "    Train_loss = []\n",
        "    Check_loss = []\n",
        "    Check_acc = []\n",
        "\n",
        "    for i in range(epochs):\n",
        "        do_print = print_freq > 0 and (i == 0 or (i+1) % print_freq == 0)\n",
        "        if do_print:\n",
        "            print('Epoch : ', i+1)\n",
        "        train_loss = train_epoch(model, train_loader, criterion, optimizer, device, do_print=do_print)\n",
        "        check_loss, check_acc = test_model(model, check_loader, criterion, device, testing_mode=testing_mode, do_print=do_print)\n",
        "        Train_loss.append(train_loss)\n",
        "        Check_loss.append(check_loss)\n",
        "        Check_acc.append(check_acc)\n",
        "        if do_print:\n",
        "            print('='*20)\n",
        "\n",
        "    return Train_loss, Check_loss, Check_acc"
      ]
    },
    {
      "cell_type": "code",
      "execution_count": 223,
      "metadata": {},
      "outputs": [],
      "source": [
        "def kfold_train(model_type, criterion, optimizer, train_data_x, train_data_y, device, loader_args, num_folds=2, epochs=10, shuffle=True, random_state=42, print_freq=1):\n",
        "    # Create the KFold object\n",
        "    kf = KFold(num_folds, shuffle=shuffle, random_state=random_state)\n",
        "\n",
        "    Fold_train_loss = []\n",
        "    Fold_val_loss = []\n",
        "    Fold_val_acc = []\n",
        "\n",
        "    # Do the folds\n",
        "    for fold, (train_index, val_index) in enumerate(kf.split(train_data_x)):\n",
        "        print(f\"Fold {fold+1}/{num_folds}\")\n",
        "\n",
        "        # Create datasets\n",
        "        fold_train_dataset = DigitsDataset(train_data_x[train_index], train_data_y[train_index])\n",
        "        fold_val_dataset = DigitsDataset(train_data_x[val_index], train_data_y[val_index])\n",
        "\n",
        "        # Create dataloaders\n",
        "        fold_train_loader = DataLoader(fold_train_dataset, **loader_args)\n",
        "        fold_val_loader = DataLoader(fold_val_dataset, **loader_args)\n",
        "\n",
        "        # Create new model for fold\n",
        "        fold_model = model_type()\n",
        "\n",
        "        # Reset the optimizer\n",
        "        optimizer.param_groups.clear()\n",
        "        optimizer.add_param_group({'params': fold_model.parameters()})\n",
        "\n",
        "        # Train the model\n",
        "        train_loss, val_loss, val_acc = train_model(fold_model, fold_train_loader, fold_val_loader, criterion, optimizer, device, epochs=epochs, print_freq=print_freq)\n",
        "\n",
        "        # Store metrics\n",
        "        Fold_train_loss.append(train_loss)\n",
        "        Fold_val_loss.append(val_loss)\n",
        "        Fold_val_acc.append(val_acc)\n",
        "\n",
        "    return Fold_train_loss, Fold_val_loss, Fold_val_acc"
      ]
    },
    {
      "attachments": {},
      "cell_type": "markdown",
      "metadata": {
        "id": "vG2Dz61VLq0a"
      },
      "source": [
        "## Network attempts\n",
        "https://madebyollin.github.io/convnet-calculator/ can come in very handy when determining the trainable parameters for a convolution layer."
      ]
    },
    {
      "attachments": {},
      "cell_type": "markdown",
      "metadata": {
        "id": "EtkekcYYLq0a"
      },
      "source": [
        "### LeNet-5-like network (Tom)\n",
        "The LeNet-5 architecture was the first successfully trained CNN - it was even designed for the task we're doing, but on images of 28x28 (hence the \"-like\").\n",
        "\n",
        "Its architecture is as follows:\n",
        "1. Input (1@15x16)\n",
        "2. Convolution -- (6@15x16)\n",
        "3. Average pool -- (6@7x8)\n",
        "4. Convolution -- (16@5x6)\n",
        "5. Average pool -- (16@2x3)\n",
        "6. Fully connected layer -- 120 nodes\n",
        "7. Fully connected layer -- 84 nodes\n",
        "8. Fully connected output -- one-hot encoding"
      ]
    },
    {
      "cell_type": "code",
      "execution_count": 224,
      "metadata": {},
      "outputs": [],
      "source": [
        "leNet5 = nn.Sequential(\n",
        "    nn.Conv2d(in_channels=1, out_channels=6, kernel_size=5, padding=2), nn.Sigmoid(),\n",
        "    nn.AvgPool2d(kernel_size=2, stride=2),\n",
        "    nn.Conv2d(in_channels=6, out_channels=16, kernel_size=3), nn.Sigmoid(),\n",
        "    nn.AvgPool2d(kernel_size=2, stride=2),\n",
        "    nn.Flatten(),\n",
        "    nn.Linear(in_features=96, out_features=120), nn.Sigmoid(),\n",
        "    nn.Linear(in_features=120, out_features=84), nn.Sigmoid(),\n",
        "    nn.Linear(in_features=84, out_features=10)\n",
        ")\n",
        "\n",
        "criterion = nn.CrossEntropyLoss()\n",
        "optimizer = torch.optim.Adam(leNet5.parameters())\n",
        "\n",
        "# train_loss, test_loss, test_acc = train_model(leNet5, train_loader, test_loader, criterion, optimizer, 20, print_freq=0)\n",
        "# plt.plot(test_acc)"
      ]
    },
    {
      "attachments": {},
      "cell_type": "markdown",
      "metadata": {
        "id": "DJ9Yv8KzLq0a"
      },
      "source": [
        "### Tom's 2nd attempt\n",
        "\n",
        "Architecture as follows:\n",
        "1. Input (1@15x16)\n",
        "2. Convolution (1@16x16)\n",
        "3. Convolution (6@16x16)\n",
        "4. Average pool (6@8x8)\n",
        "5. FCL 240\n",
        "6. FCL 60\n",
        "7. FCL Output -- one-hot encoded"
      ]
    },
    {
      "cell_type": "code",
      "execution_count": 225,
      "metadata": {
        "id": "CNE6yMpNdX3T"
      },
      "outputs": [],
      "source": [
        "class Tom2(torch.nn.Module):\n",
        "    def __init__(self):\n",
        "        super(Tom2, self).__init__()\n",
        "\n",
        "        self.conv1 = nn.Conv2d(in_channels=1, out_channels=1, kernel_size=(5,4), padding=2)\n",
        "        self.activ1 = nn.ReLU()\n",
        "        self.conv2 = nn.Conv2d(in_channels=1, out_channels=6, kernel_size=5, padding=2)\n",
        "        self.activ2 = nn.ReLU()\n",
        "        self.avg3 = nn.AvgPool2d(kernel_size=2, stride=2)\n",
        "        self.flat4 = nn.Flatten()\n",
        "        self.lin5 = nn.Linear(in_features=384, out_features=240)\n",
        "        self.activ5 = nn.ReLU()\n",
        "        self.lin6 = nn.Linear(in_features=240, out_features=60)\n",
        "        self.activ6 = nn.ReLU()\n",
        "        self.lin7 = nn.Linear(in_features=60, out_features=10)\n",
        "\n",
        "    def forward(self, x):\n",
        "        x = self.conv1(x)\n",
        "        x = self.activ1(x)\n",
        "        x = self.conv2(x)\n",
        "        x = self.activ2(x)\n",
        "        x = self.avg3(x)\n",
        "        x = self.flat4(x)\n",
        "        x = self.lin5(x)\n",
        "        x = self.activ5(x)\n",
        "        x = self.lin6(x)\n",
        "        x = self.activ6(x)\n",
        "        x = self.lin7(x)\n",
        "        return x\n",
        "\n",
        "tom2_criterion = nn.CrossEntropyLoss()\n",
        "tom2_optimizer = torch.optim.SGD(Tom2().parameters(), lr=0.01, momentum=0.9)"
      ]
    },
    {
      "cell_type": "code",
      "execution_count": 226,
      "metadata": {},
      "outputs": [
        {
          "name": "stdout",
          "output_type": "stream",
          "text": [
            "Fold 1/2\n",
            "Tom2(\n",
            "  (conv1): Conv2d(1, 1, kernel_size=(5, 4), stride=(1, 1), padding=(2, 2))\n",
            "  (activ1): ReLU()\n",
            "  (conv2): Conv2d(1, 6, kernel_size=(5, 5), stride=(1, 1), padding=(2, 2))\n",
            "  (activ2): ReLU()\n",
            "  (avg3): AvgPool2d(kernel_size=2, stride=2, padding=0)\n",
            "  (flat4): Flatten(start_dim=1, end_dim=-1)\n",
            "  (lin5): Linear(in_features=384, out_features=240, bias=True)\n",
            "  (activ5): ReLU()\n",
            "  (lin6): Linear(in_features=240, out_features=60, bias=True)\n",
            "  (activ6): ReLU()\n",
            "  (lin7): Linear(in_features=60, out_features=10, bias=True)\n",
            ")\n",
            "Epoch :  1\n"
          ]
        },
        {
          "name": "stdout",
          "output_type": "stream",
          "text": [
            "Training Loss:  2.1416758166419134 Time:  0.39569616317749023 s\n",
            "Validation  Loss:  1.1533310924257552\n",
            "Validation  Accuracy:  61.675000000000004 %\n",
            "====================\n",
            "Epoch :  5\n",
            "Training Loss:  0.19181515028079352 Time:  0.3773000240325928 s\n",
            "Validation  Loss:  0.32451565752899836\n",
            "Validation  Accuracy:  89.525 %\n",
            "====================\n",
            "Epoch :  10\n",
            "Training Loss:  0.06077059768583803 Time:  0.33631086349487305 s\n",
            "Validation  Loss:  0.1543344302575976\n",
            "Validation  Accuracy:  95.05 %\n",
            "====================\n",
            "Epoch :  15\n",
            "Training Loss:  0.029929016990261893 Time:  0.337277889251709 s\n",
            "Validation  Loss:  0.06729026193479223\n",
            "Validation  Accuracy:  97.875 %\n",
            "====================\n",
            "Fold 2/2\n",
            "Tom2(\n",
            "  (conv1): Conv2d(1, 1, kernel_size=(5, 4), stride=(1, 1), padding=(2, 2))\n",
            "  (activ1): ReLU()\n",
            "  (conv2): Conv2d(1, 6, kernel_size=(5, 5), stride=(1, 1), padding=(2, 2))\n",
            "  (activ2): ReLU()\n",
            "  (avg3): AvgPool2d(kernel_size=2, stride=2, padding=0)\n",
            "  (flat4): Flatten(start_dim=1, end_dim=-1)\n",
            "  (lin5): Linear(in_features=384, out_features=240, bias=True)\n",
            "  (activ5): ReLU()\n",
            "  (lin6): Linear(in_features=240, out_features=60, bias=True)\n",
            "  (activ6): ReLU()\n",
            "  (lin7): Linear(in_features=60, out_features=10, bias=True)\n",
            ")\n",
            "Epoch :  1\n",
            "Training Loss:  2.303798751225547 Time:  0.3369936943054199 s\n",
            "Validation  Loss:  2.3039209729149226\n",
            "Validation  Accuracy:  9.225 %\n",
            "====================\n",
            "Epoch :  5\n",
            "Training Loss:  1.7117260524204798 Time:  0.33709192276000977 s\n",
            "Validation  Loss:  1.0828096298944383\n",
            "Validation  Accuracy:  57.475 %\n",
            "====================\n",
            "Epoch :  10\n",
            "Training Loss:  0.12724099920264312 Time:  0.35362720489501953 s\n",
            "Validation  Loss:  0.13977083634762538\n",
            "Validation  Accuracy:  95.15 %\n",
            "====================\n",
            "Epoch :  15\n",
            "Training Loss:  0.04086770417006125 Time:  0.3445861339569092 s\n",
            "Validation  Loss:  0.08833492094916957\n",
            "Validation  Accuracy:  96.89999999999999 %\n",
            "====================\n"
          ]
        }
      ],
      "source": [
        "k_folds = 2\n",
        "fold_train_loss, fold_val_loss, fold_val_acc = kfold_train(Tom2, tom2_criterion, tom2_optimizer, torch_x_train, torch_y_train, device, loader_args, num_folds=k_folds, epochs=15, print_freq=5)"
      ]
    },
    {
      "cell_type": "code",
      "execution_count": 227,
      "metadata": {
        "colab": {
          "base_uri": "https://localhost:8080/",
          "height": 957
        },
        "id": "O5W9TkQcUcar",
        "outputId": "a2cbef2b-13ad-4f59-8806-490e97fbda51"
      },
      "outputs": [
        {
          "data": {
            "image/png": "[encoded data removed]",
            "text/plain": [
              "<Figure size 1000x500 with 1 Axes>"
            ]
          },
          "metadata": {},
          "output_type": "display_data"
        },
        {
          "data": {
            "image/png": "[encoded data removed]",
            "text/plain": [
              "<Figure size 1000x500 with 1 Axes>"
            ]
          },
          "metadata": {},
          "output_type": "display_data"
        }
      ],
      "source": [
        "import matplotlib.pyplot as plt\n",
        "\n",
        "# Plot the training and validation loss for each fold\n",
        "plt.figure(figsize=(10, 5))\n",
        "for fold in range(k_folds):\n",
        "    plt.plot(fold_train_loss[fold], label=f\"Fold {fold+1} Train Loss\")\n",
        "    plt.plot(fold_val_loss[fold], label=f\"Fold {fold+1} Validation Loss\")\n",
        "plt.xlabel('Epochs')\n",
        "plt.ylabel('Loss')\n",
        "plt.title('Training and Validation Loss')\n",
        "plt.legend()\n",
        "plt.show()\n",
        "\n",
        "# Plot the validation accuracy for each fold\n",
        "plt.figure(figsize=(10, 5))\n",
        "for fold in range(k_folds):\n",
        "    plt.plot(fold_val_acc[fold], label=f\"Fold {fold+1} Validation Accuracy\")\n",
        "plt.xlabel('Epochs')\n",
        "plt.ylabel('Accuracy (%)')\n",
        "plt.title('Validation Accuracy')\n",
        "plt.legend()\n",
        "plt.show()"
      ]
    },
    {
      "cell_type": "code",
      "execution_count": 228,
      "metadata": {
        "colab": {
          "base_uri": "https://localhost:8080/"
        },
        "id": "BnTTNvPcpNIw",
        "outputId": "5bde88ab-7249-4629-8d2d-2c1e02958b98"
      },
      "outputs": [
        {
          "name": "stdout",
          "output_type": "stream",
          "text": [
            "Tom2(\n",
            "  (conv1): Conv2d(1, 1, kernel_size=(5, 4), stride=(1, 1), padding=(2, 2))\n",
            "  (activ1): ReLU()\n",
            "  (conv2): Conv2d(1, 6, kernel_size=(5, 5), stride=(1, 1), padding=(2, 2))\n",
            "  (activ2): ReLU()\n",
            "  (avg3): AvgPool2d(kernel_size=2, stride=2, padding=0)\n",
            "  (flat4): Flatten(start_dim=1, end_dim=-1)\n",
            "  (lin5): Linear(in_features=384, out_features=240, bias=True)\n",
            "  (activ5): ReLU()\n",
            "  (lin6): Linear(in_features=240, out_features=60, bias=True)\n",
            "  (activ6): ReLU()\n",
            "  (lin7): Linear(in_features=60, out_features=10, bias=True)\n",
            ")\n",
            "Epoch :  1\n",
            "Training Loss:  2.3038033618927 Time:  0.7118229866027832 s\n",
            "Testing  Loss:  2.3008974343538284\n",
            "Testing  Accuracy:  10.0 %\n",
            "====================\n",
            "Epoch :  5\n",
            "Training Loss:  0.24954234531521796 Time:  0.6834239959716797 s\n",
            "Testing  Loss:  0.16480635851621628\n",
            "Testing  Accuracy:  96.1 %\n",
            "====================\n",
            "Epoch :  10\n",
            "Training Loss:  0.034682345191016796 Time:  0.7040629386901855 s\n",
            "Testing  Loss:  0.12137371685821563\n",
            "Testing  Accuracy:  97.1 %\n",
            "====================\n",
            "Epoch :  15\n",
            "Training Loss:  0.007914850255474448 Time:  0.6877968311309814 s\n",
            "Testing  Loss:  0.13383248586615082\n",
            "Testing  Accuracy:  98.0 %\n",
            "====================\n",
            "98.0\n"
          ]
        }
      ],
      "source": [
        "#reset the model\n",
        "tom2 = Tom2()\n",
        "tom2_optimizer.param_groups.clear()\n",
        "tom2_optimizer.add_param_group({'params': tom2.parameters()})\n",
        "train_loss, test_loss, test_acc = train_model(tom2, train_loader, test_loader, tom2_criterion, tom2_optimizer, device, epochs=15, testing_mode=True, print_freq=5)\n",
        "\n",
        "print(test_acc[-1])"
      ]
    }
  ],
  "metadata": {
    "colab": {
      "provenance": []
    },
    "kernelspec": {
      "display_name": ".venv",
      "language": "python",
      "name": "python3"
    },
    "language_info": {
      "codemirror_mode": {
        "name": "ipython",
        "version": 3
      },
      "file_extension": ".py",
      "mimetype": "text/x-python",
      "name": "python",
      "nbconvert_exporter": "python",
      "pygments_lexer": "ipython3",
      "version": "3.11.3"
    },
    "orig_nbformat": 4
  },
  "nbformat": 4,
  "nbformat_minor": 0
}
