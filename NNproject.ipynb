{
  "nbformat": 4,
  "nbformat_minor": 0,
  "metadata": {
    "colab": {
      "provenance": []
    },
    "kernelspec": {
      "name": "python3",
      "display_name": "Python 3"
    },
    "language_info": {
      "name": "python"
    }
  },
  "cells": [
    {
      "cell_type": "code",
      "execution_count": 16,
      "metadata": {
        "id": "3NJJ2Hx7cBG2"
      },
      "outputs": [],
      "source": [
        "from pathlib import Path\n",
        "import matplotlib.pyplot as plt\n",
        "import numpy as np\n",
        "import torch\n",
        "import torchvision\n",
        "import torch.nn.functional as F\n",
        "import torchvision.transforms as T\n",
        "from torchvision.io import read_image\n",
        "import os\n",
        "import torch.nn as nn\n",
        "\n",
        "import torchvision.transforms as transforms\n",
        "\n",
        "import numpy as np\n",
        "import matplotlib.pyplot as plt\n",
        "import sklearn.linear_model"
      ]
    },
    {
      "cell_type": "code",
      "source": [
        "digits = np.loadtxt('mfeat-pix.txt', usecols=range(240))"
      ],
      "metadata": {
        "colab": {
          "base_uri": "https://localhost:8080/"
        },
        "id": "TpvS23YwchaA",
        "outputId": "f5bd2c68-0da4-4dde-9732-a74a2c2f5544"
      },
      "execution_count": 2,
      "outputs": [
        {
          "output_type": "stream",
          "name": "stdout",
          "text": [
            "Mounted at /content/drive\n"
          ]
        }
      ]
    },
    {
      "cell_type": "code",
      "source": [
        "digits.size"
      ],
      "metadata": {
        "colab": {
          "base_uri": "https://localhost:8080/"
        },
        "id": "CfJAi4mEchwG",
        "outputId": "488c939f-8be1-49ca-e3ac-a822a316d893"
      },
      "execution_count": 17,
      "outputs": [
        {
          "output_type": "execute_result",
          "data": {
            "text/plain": [
              "480000"
            ]
          },
          "metadata": {},
          "execution_count": 17
        }
      ]
    },
    {
      "cell_type": "code",
      "source": [
        "plt.imshow(digits[0].reshape(16,15), cmap='gray')"
      ],
      "metadata": {
        "colab": {
          "base_uri": "https://localhost:8080/",
          "height": 447
        },
        "id": "ZfDZW6sPeH5N",
        "outputId": "57e148c0-1132-4431-ff1a-da1c5879c428"
      },
      "execution_count": 18,
      "outputs": [
        {
          "output_type": "execute_result",
          "data": {
            "text/plain": [
              "<matplotlib.image.AxesImage at 0x7f7047844820>"
            ]
          },
          "metadata": {},
          "execution_count": 18
        },
        {
          "output_type": "display_data",
          "data": {
            "text/plain": [
              "<Figure size 640x480 with 1 Axes>"
            ],
            "image/png": "[encoded data removed]"
          },
          "metadata": {}
        }
      ]
    },
    {
      "cell_type": "code",
      "source": [
        "x_train = np.empty([1000, 240])\n",
        "y_train = []\n",
        "x_test = np.empty([1000, 240])\n",
        "y_test = []\n",
        "for d in range(10):\n",
        "    for i in range(100):\n",
        "        x_train[d*100 + i] = digits[d*200 + i]\n",
        "        x_test[d*100 + i] = digits[100 + d*200 + i]\n",
        "    y_train = np.concatenate((y_train, np.full(100, d)))\n",
        "    y_test = np.concatenate((y_test, np.full(100, d)))\n",
        "\n",
        "x_train = x_train / x_train.max()\n",
        "x_test = x_test / x_test.max()"
      ],
      "metadata": {
        "id": "R8PdoBDjfVZL"
      },
      "execution_count": 19,
      "outputs": []
    },
    {
      "cell_type": "code",
      "source": [
        "lr = sklearn.linear_model.LogisticRegression(solver='saga', tol=0.1)\n",
        "lr = lr.fit(x_train, y_train)\n",
        "\n",
        "print(f'train: {lr.score(x_train, y_train)}')\n",
        "print(f'test: {lr.score(x_test, y_test)}')"
      ],
      "metadata": {
        "colab": {
          "base_uri": "https://localhost:8080/"
        },
        "id": "bxjxqVuhd4LW",
        "outputId": "947dc527-f600-406f-9e7c-16f2e90e632d"
      },
      "execution_count": 20,
      "outputs": [
        {
          "output_type": "stream",
          "name": "stdout",
          "text": [
            "train: 0.979\n",
            "test: 0.956\n"
          ]
        }
      ]
    },
    {
      "cell_type": "code",
      "source": [
        "print('Train: X=%s, y=%s' % (x_train.shape, y_train.shape))\n",
        "print('Train: X=%s, y=%s' % (x_test.shape, y_test.shape))"
      ],
      "metadata": {
        "colab": {
          "base_uri": "https://localhost:8080/"
        },
        "id": "pYYXsZ3cfc4G",
        "outputId": "f1e267e6-8969-45d2-ce2d-7a6f1b393c59"
      },
      "execution_count": 21,
      "outputs": [
        {
          "output_type": "stream",
          "name": "stdout",
          "text": [
            "Train: X=(1000, 240), y=(1000,)\n",
            "Train: X=(1000, 240), y=(1000,)\n"
          ]
        }
      ]
    },
    {
      "cell_type": "code",
      "source": [
        "for i in range(9):\n",
        " # define subplot\n",
        " plt.subplot(330 + 1 + i)\n",
        " # plot raw pixel data\n",
        " plt.imshow(digits[i].reshape(16,15), cmap='gray')\n",
        "# show the figure\n",
        "plt.show()"
      ],
      "metadata": {
        "colab": {
          "base_uri": "https://localhost:8080/",
          "height": 432
        },
        "id": "i4ep53HeffnH",
        "outputId": "ddbc1d78-28af-4d5c-fe0f-5a85ad015032"
      },
      "execution_count": 22,
      "outputs": [
        {
          "output_type": "display_data",
          "data": {
            "text/plain": [
              "<Figure size 640x480 with 9 Axes>"
            ],
            "image/png": "[encoded data removed]"
          },
          "metadata": {}
        }
      ]
    },
    {
      "cell_type": "code",
      "source": [
        "# define cnn model\n",
        "def define_model():\n",
        "\n",
        "    return model"
      ],
      "metadata": {
        "id": "UgwyyLGRfhIh"
      },
      "execution_count": 23,
      "outputs": []
    },
    {
      "cell_type": "code",
      "source": [
        "#kfold cross validation\n"
      ],
      "metadata": {
        "id": "jJaHXHkaf5d_"
      },
      "execution_count": null,
      "outputs": []
    },
    {
      "cell_type": "code",
      "source": [
        "def summarize_performance(scores):\n",
        " # print summary\n",
        " print('Accuracy: mean=%.3f std=%.3f, n=%d' % (mean(scores)*100, std(scores)*100, len(scores)))\n",
        " # box and whisker plots of results\n",
        " plt.boxplot(scores)\n",
        " plt.show()"
      ],
      "metadata": {
        "id": "z-zz1MpdfnX0"
      },
      "execution_count": 26,
      "outputs": []
    }
  ]
}