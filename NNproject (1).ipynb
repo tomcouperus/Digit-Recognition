{
  "nbformat": 4,
  "nbformat_minor": 0,
  "metadata": {
    "colab": {
      "provenance": []
    },
    "kernelspec": {
      "name": "python3",
      "display_name": "Python 3"
    },
    "language_info": {
      "name": "python"
    }
  },
  "cells": [
    {
      "cell_type": "code",
      "execution_count": 100,
      "metadata": {
        "id": "3NJJ2Hx7cBG2"
      },
      "outputs": [],
      "source": [
        "from pathlib import Path\n",
        "import matplotlib.pyplot as plt\n",
        "import numpy as np\n",
        "import torch\n",
        "import torchvision\n",
        "import torch.nn.functional as F\n",
        "import torchvision.transforms as T\n",
        "from torchvision.io import read_image\n",
        "import os\n",
        "import torch.nn as nn\n",
        "import torchvision.transforms as transforms\n",
        "import numpy as np\n",
        "import matplotlib.pyplot as plt\n",
        "import sklearn.linear_model\n",
        "from torch.utils.data import DataLoader\n",
        "import time"
      ]
    },
    {
      "cell_type": "code",
      "source": [
        "digits = np.loadtxt('mfeat-pix.txt', usecols=range(240))"
      ],
      "metadata": {
        "id": "TpvS23YwchaA"
      },
      "execution_count": 101,
      "outputs": []
    },
    {
      "cell_type": "code",
      "source": [
        "digits.size"
      ],
      "metadata": {
        "colab": {
          "base_uri": "https://localhost:8080/"
        },
        "id": "CfJAi4mEchwG",
        "outputId": "04ecb07a-41e8-4a18-ee3d-de7fc2646dc5"
      },
      "execution_count": 102,
      "outputs": [
        {
          "output_type": "execute_result",
          "data": {
            "text/plain": [
              "480000"
            ]
          },
          "metadata": {},
          "execution_count": 102
        }
      ]
    },
    {
      "cell_type": "code",
      "source": [
        "plt.imshow(digits[1].reshape(16,15), cmap='gray')"
      ],
      "metadata": {
        "colab": {
          "base_uri": "https://localhost:8080/",
          "height": 447
        },
        "id": "ZfDZW6sPeH5N",
        "outputId": "ca56797c-08b2-4b44-9a28-25b4c3767c91"
      },
      "execution_count": 103,
      "outputs": [
        {
          "output_type": "execute_result",
          "data": {
            "text/plain": [
              "<matplotlib.image.AxesImage at 0x7f89340184c0>"
            ]
          },
          "metadata": {},
          "execution_count": 103
        },
        {
          "output_type": "display_data",
          "data": {
            "text/plain": [
              "<Figure size 640x480 with 1 Axes>"
            ],
            "image/png": "[encoded data removed]"
          },
          "metadata": {}
        }
      ]
    },
    {
      "cell_type": "code",
      "source": [
        "x_train = np.empty([1000, 240])\n",
        "y_train = []\n",
        "x_test = np.empty([1000, 240])\n",
        "y_test = []\n",
        "for d in range(10):\n",
        "    for i in range(100):\n",
        "        x_train[d*100 + i] = digits[d*200 + i]\n",
        "        x_test[d*100 + i] = digits[100 + d*200 + i]\n",
        "    y_train = np.concatenate((y_train, np.full(100, d)))\n",
        "    y_test = np.concatenate((y_test, np.full(100, d)))\n",
        "\n",
        "x_train = x_train / x_train.max()\n",
        "x_test = x_test / x_test.max()"
      ],
      "metadata": {
        "id": "R8PdoBDjfVZL"
      },
      "execution_count": 104,
      "outputs": []
    },
    {
      "cell_type": "code",
      "source": [
        "lr = sklearn.linear_model.LogisticRegression(solver='saga', tol=0.1)\n",
        "lr = lr.fit(x_train, y_train)\n",
        "\n",
        "print(f'train: {lr.score(x_train, y_train)}')\n",
        "print(f'test: {lr.score(x_test, y_test)}')"
      ],
      "metadata": {
        "colab": {
          "base_uri": "https://localhost:8080/"
        },
        "id": "bxjxqVuhd4LW",
        "outputId": "cb153087-2cdf-450c-e12b-2ed24e775275"
      },
      "execution_count": 105,
      "outputs": [
        {
          "output_type": "stream",
          "name": "stdout",
          "text": [
            "train: 0.983\n",
            "test: 0.953\n"
          ]
        }
      ]
    },
    {
      "cell_type": "code",
      "source": [
        "print('Train: X=%s, y=%s' % (x_train.shape, y_train.shape))\n",
        "print('Train: X=%s, y=%s' % (x_test.shape, y_test.shape))"
      ],
      "metadata": {
        "colab": {
          "base_uri": "https://localhost:8080/"
        },
        "id": "pYYXsZ3cfc4G",
        "outputId": "4f15238e-c4f3-4bd0-e178-86f38e4b0137"
      },
      "execution_count": 106,
      "outputs": [
        {
          "output_type": "stream",
          "name": "stdout",
          "text": [
            "Train: X=(1000, 240), y=(1000,)\n",
            "Train: X=(1000, 240), y=(1000,)\n"
          ]
        }
      ]
    },
    {
      "cell_type": "code",
      "source": [],
      "metadata": {
        "id": "s51OUhFQGPD1"
      },
      "execution_count": null,
      "outputs": []
    },
    {
      "cell_type": "code",
      "source": [
        "for i in range(9):\n",
        " # define subplot\n",
        " plt.subplot(330 + 1 + i)\n",
        " # plot raw pixel data\n",
        " plt.imshow(x_train[100*i].reshape(16,15), cmap='gray')\n",
        "# show the figure\n",
        "plt.show()"
      ],
      "metadata": {
        "colab": {
          "base_uri": "https://localhost:8080/",
          "height": 432
        },
        "id": "i4ep53HeffnH",
        "outputId": "e8ad2800-3749-477c-c123-6bdadbb09e18"
      },
      "execution_count": 107,
      "outputs": [
        {
          "output_type": "display_data",
          "data": {
            "text/plain": [
              "<Figure size 640x480 with 9 Axes>"
            ],
            "image/png": "[encoded data removed]"
          },
          "metadata": {}
        }
      ]
    },
    {
      "cell_type": "code",
      "source": [
        "fig, axes = plt.subplots(2, 5, figsize=(5, 5))\n",
        "for i in range(10):\n",
        "    row = i // 5\n",
        "    col = i % 5\n",
        "    axes[row, col].imshow(x_train[100 * i].reshape(16, 15), cmap='gray')\n",
        "plt.tight_layout()\n",
        "plt.show()"
      ],
      "metadata": {
        "colab": {
          "base_uri": "https://localhost:8080/",
          "height": 326
        },
        "id": "uVFpSwm0JUBj",
        "outputId": "fa18909a-3ef4-4ced-b3e9-01d6e4519501"
      },
      "execution_count": 108,
      "outputs": [
        {
          "output_type": "display_data",
          "data": {
            "text/plain": [
              "<Figure size 500x500 with 10 Axes>"
            ],
            "image/png": "[encoded data removed]"
          },
          "metadata": {}
        }
      ]
    },
    {
      "cell_type": "code",
      "source": [
        "#converted to pytorch format\n",
        "x_train = torch.from_numpy(x_train)\n",
        "x_test = torch.from_numpy(x_test)\n",
        "y_train = torch.from_numpy(y_train)\n",
        "y_test = torch.from_numpy(y_test)"
      ],
      "metadata": {
        "id": "S8Dm7ZKnNXw-"
      },
      "execution_count": 109,
      "outputs": []
    },
    {
      "cell_type": "code",
      "source": [
        "class MyDataset(torch.utils.data.Dataset):\n",
        "    def __init__(self, X, Y):\n",
        "        self.X = X\n",
        "        self.Y = Y\n",
        "\n",
        "    def __len__(self):\n",
        "        return len(self.Y)\n",
        "\n",
        "    def __getitem__(self,index):\n",
        "        X = self.X[index].float().reshape(-1)  # flatten input to 1D\n",
        "        Y = self.Y[index].long()\n",
        "        return X,Y"
      ],
      "metadata": {
        "id": "0qKfaPvlNoR1"
      },
      "execution_count": 110,
      "outputs": []
    },
    {
      "cell_type": "code",
      "source": [
        "#converting to torch format\n",
        "num_workers = 8 if torch.cuda.is_available() else 0 \n",
        "\n",
        "if torch.cuda.is_available():\n",
        "    loader_args = dict(shuffle=True, batch_size=256, num_workers=num_workers, pin_memory=True)\n",
        "else:\n",
        "    loader_args = dict(shuffle=True, batch_size=64)\n",
        "\n",
        "train_dataset = MyDataset(x_train, y_train)\n",
        "train_loader = torch.utils.data.DataLoader(train_dataset, **loader_args)\n",
        "\n",
        "test_dataset = MyDataset(x_test, y_test)\n",
        "test_loader = torch.utils.data.DataLoader(test_dataset, **loader_args)"
      ],
      "metadata": {
        "id": "LXFvbWY5NtXH"
      },
      "execution_count": 111,
      "outputs": []
    },
    {
      "cell_type": "code",
      "source": [
        "#basic mlp (was used to create CNN, can ignore for now)\n",
        "class SimpleMLP(torch.nn.Module):\n",
        "    def __init__(self, size_list):\n",
        "        super(SimpleMLP, self).__init__()\n",
        "        self.size_list = size_list\n",
        "        layers = []\n",
        "        for i in range(len(size_list) - 2):\n",
        "            layers.append(torch.nn.Linear(size_list[i], size_list[i+1]))\n",
        "            layers.append(torch.nn.ReLU())\n",
        "        layers.append(torch.nn.Linear(size_list[-2], size_list[-1]))\n",
        "        self.net = torch.nn.Sequential(*layers)\n",
        "\n",
        "    def forward(self, x):\n",
        "        return self.net(x)"
      ],
      "metadata": {
        "id": "YPtUTfFWRcpX"
      },
      "execution_count": 112,
      "outputs": []
    },
    {
      "cell_type": "code",
      "source": [
        "#CNN, to be adapted\n",
        "class SimpleCNN(torch.nn.Module):\n",
        "    def __init__(self, size_list):\n",
        "        super(SimpleCNN, self).__init__()\n",
        "        self.size_list = size_list\n",
        "        channels = size_list[0]  # Number of input channels\n",
        "        layers = []\n",
        "        \n",
        "        # Add convolutional layers with ReLU activations\n",
        "        for i in range(len(size_list) - 2):\n",
        "            layers.append(torch.nn.Conv2d(channels, size_list[i+1], kernel_size=3, padding=1))\n",
        "            layers.append(torch.nn.ReLU())\n",
        "            channels = size_list[i+1]\n",
        "        \n",
        "        # Add the final fully connected layer\n",
        "        self.conv_net = torch.nn.Sequential(*layers)\n",
        "        self.fc = torch.nn.Linear(size_list[-2], size_list[-1])\n",
        "\n",
        "    def forward(self, x):\n",
        "        # Reshape 1D input to 4D tensor\n",
        "        if len(x.shape) == 2:\n",
        "            x = x.unsqueeze(2).unsqueeze(3)\n",
        "        \n",
        "        x = self.conv_net(x)\n",
        "        x = torch.nn.functional.adaptive_avg_pool2d(x, 1)\n",
        "        x = x.view(x.size(0), -1)\n",
        "        x = self.fc(x)\n",
        "        return x"
      ],
      "metadata": {
        "id": "lLFhFz1mTQjk"
      },
      "execution_count": 113,
      "outputs": []
    },
    {
      "cell_type": "code",
      "source": [
        "#setting the model, can change the values\n",
        "model = SimpleCNN([240, 256, 10])\n",
        "device = torch.device(\"cuda\" if torch.cuda.is_available() else \"cpu\")\n",
        "model.to(device)\n",
        "print(model)"
      ],
      "metadata": {
        "id": "AolK3AnMRfrX",
        "colab": {
          "base_uri": "https://localhost:8080/"
        },
        "outputId": "4844f9ad-ad51-434e-eda7-0887e0e27966"
      },
      "execution_count": 114,
      "outputs": [
        {
          "output_type": "stream",
          "name": "stdout",
          "text": [
            "SimpleCNN(\n",
            "  (conv_net): Sequential(\n",
            "    (0): Conv2d(240, 256, kernel_size=(3, 3), stride=(1, 1), padding=(1, 1))\n",
            "    (1): ReLU()\n",
            "  )\n",
            "  (fc): Linear(in_features=256, out_features=10, bias=True)\n",
            ")\n"
          ]
        }
      ]
    },
    {
      "cell_type": "code",
      "source": [
        "#setting our criterion and optimizer, subject to change\n",
        "criterion = torch.nn.CrossEntropyLoss()\n",
        "optimizer = torch.optim.Adam(model.parameters())"
      ],
      "metadata": {
        "id": "S6BaAhToRgeM"
      },
      "execution_count": 115,
      "outputs": []
    },
    {
      "cell_type": "code",
      "source": [
        "# train on a number of epochs (can maybe implement CV here)\n",
        "def train_epoch(model, train_loader, criterion, optimizer):\n",
        "    model.train()\n",
        "\n",
        "    running_loss = 0.0\n",
        "    \n",
        "    start_time = time.time()\n",
        "    for batch_idx, (data, target) in enumerate(train_loader):   \n",
        "        optimizer.zero_grad()   # .backward() accumulates gradients\n",
        "        data = data.to(device)\n",
        "        target = target.to(device) # all data & model on same device\n",
        "\n",
        "        outputs = model(data)\n",
        "        loss = criterion(outputs, target)\n",
        "        running_loss += loss.item()\n",
        "\n",
        "        loss.backward()\n",
        "        optimizer.step()\n",
        "    \n",
        "    end_time = time.time()\n",
        "    \n",
        "    running_loss /= len(train_loader)\n",
        "    print('Training Loss: ', running_loss, 'Time: ',end_time - start_time, 's')\n",
        "    return running_loss"
      ],
      "metadata": {
        "id": "ASHKG0YXRiNX"
      },
      "execution_count": 116,
      "outputs": []
    },
    {
      "cell_type": "code",
      "source": [
        "#show the model\n",
        "model.train()"
      ],
      "metadata": {
        "colab": {
          "base_uri": "https://localhost:8080/"
        },
        "id": "IPaiR8G5SaYq",
        "outputId": "53dbaac7-ed25-4b46-9f6c-9e895f7ba9c8"
      },
      "execution_count": 117,
      "outputs": [
        {
          "output_type": "execute_result",
          "data": {
            "text/plain": [
              "SimpleCNN(\n",
              "  (conv_net): Sequential(\n",
              "    (0): Conv2d(240, 256, kernel_size=(3, 3), stride=(1, 1), padding=(1, 1))\n",
              "    (1): ReLU()\n",
              "  )\n",
              "  (fc): Linear(in_features=256, out_features=10, bias=True)\n",
              ")"
            ]
          },
          "metadata": {},
          "execution_count": 117
        }
      ]
    },
    {
      "cell_type": "code",
      "source": [
        "#function to test the model (or we do CV here?)\n",
        "def test_model(model, test_loader, criterion):\n",
        "    with torch.no_grad():\n",
        "        model.eval()\n",
        "\n",
        "        running_loss = 0.0\n",
        "        total_predictions = 0.0\n",
        "        correct_predictions = 0.0\n",
        "\n",
        "        for batch_idx, (data, target) in enumerate(test_loader):   \n",
        "            data = data.to(device)\n",
        "            target = target.to(device)\n",
        "\n",
        "            outputs = model(data)\n",
        "\n",
        "            _, predicted = torch.max(outputs.data, 1)\n",
        "            total_predictions += target.size(0)\n",
        "            correct_predictions += (predicted == target).sum().item()\n",
        "\n",
        "            loss = criterion(outputs, target).detach()\n",
        "            running_loss += loss.item()\n",
        "\n",
        "        running_loss /= len(test_loader)\n",
        "        acc = (correct_predictions/total_predictions)*100.0\n",
        "        print('Testing Loss: ', running_loss)\n",
        "        print('Testing Accuracy: ', acc, '%')\n",
        "        return running_loss, acc"
      ],
      "metadata": {
        "id": "XvJ2gFVvRmOw"
      },
      "execution_count": 118,
      "outputs": []
    },
    {
      "cell_type": "code",
      "source": [
        "#results\n",
        "n_epochs = 10\n",
        "Train_loss = []\n",
        "Test_loss = []\n",
        "Test_acc = []\n",
        "\n",
        "for i in range(n_epochs):\n",
        "    train_loss = train_epoch(model, train_loader, criterion, optimizer)\n",
        "    test_loss, test_acc = test_model(model, test_loader, criterion)\n",
        "    Train_loss.append(train_loss)\n",
        "    Test_loss.append(test_loss)\n",
        "    Test_acc.append(test_acc)\n",
        "    print('='*20)"
      ],
      "metadata": {
        "colab": {
          "base_uri": "https://localhost:8080/"
        },
        "id": "TIfn0EjWRolR",
        "outputId": "d18b1cd9-5100-475b-8de4-c869425180c8"
      },
      "execution_count": 119,
      "outputs": [
        {
          "output_type": "stream",
          "name": "stdout",
          "text": [
            "Training Loss:  1.8348881751298904 Time:  0.39348888397216797 s\n",
            "Testing Loss:  1.2793542444705963\n",
            "Testing Accuracy:  90.3 %\n",
            "====================\n",
            "Training Loss:  0.9198237247765064 Time:  0.35465335845947266 s\n",
            "Testing Loss:  0.6078299768269062\n",
            "Testing Accuracy:  91.7 %\n",
            "====================\n",
            "Training Loss:  0.4559035748243332 Time:  0.3477632999420166 s\n",
            "Testing Loss:  0.3608535947278142\n",
            "Testing Accuracy:  93.0 %\n",
            "====================\n",
            "Training Loss:  0.287059529684484 Time:  0.3538382053375244 s\n",
            "Testing Loss:  0.27898630127310753\n",
            "Testing Accuracy:  93.89999999999999 %\n",
            "====================\n",
            "Training Loss:  0.22220399789512157 Time:  0.3525526523590088 s\n",
            "Testing Loss:  0.24258325714617968\n",
            "Testing Accuracy:  94.3 %\n",
            "====================\n",
            "Training Loss:  0.18171291798353195 Time:  0.3497910499572754 s\n",
            "Testing Loss:  0.21508661843836308\n",
            "Testing Accuracy:  95.3 %\n",
            "====================\n",
            "Training Loss:  0.15259896032512188 Time:  0.35654687881469727 s\n",
            "Testing Loss:  0.21032683504745364\n",
            "Testing Accuracy:  95.19999999999999 %\n",
            "====================\n",
            "Training Loss:  0.1337496149353683 Time:  0.350510835647583 s\n",
            "Testing Loss:  0.19068033900111914\n",
            "Testing Accuracy:  95.6 %\n",
            "====================\n",
            "Training Loss:  0.1135427844710648 Time:  0.33429408073425293 s\n",
            "Testing Loss:  0.17807228164747357\n",
            "Testing Accuracy:  96.0 %\n",
            "====================\n",
            "Training Loss:  0.10071170446462929 Time:  0.34113383293151855 s\n",
            "Testing Loss:  0.17502851272001863\n",
            "Testing Accuracy:  96.0 %\n",
            "====================\n"
          ]
        }
      ]
    },
    {
      "cell_type": "code",
      "source": [
        "#100 percent not expected as some drawings are ambigous, maybe find example of ambigous drawings in the training set.\n",
        "# .Can do data augmentation, can add features etc. Make sure we know difference between test train and validation. \n",
        "# Do CNN, could compare a standard MLP with a CNN for extra points. as it isnt clear why CNN is good for the task, so we can investigate this\n",
        "# cnn good under certain conditions. Need to think how the 2 work. If we know the basic idea which motivates the CNN (find out which tasks CNN makes \n",
        "# sense for). Note the dataset is very small, overfitting danger is real. If netwrok too big and we don't do careful regularisation we will overfit,\n",
        "# so we should know how to do this and document this nicely. Document which alphas (and other parameters) we investigated etc, but don't need to say the\n",
        "# the result for all of them. At the end show the results on the testing data. Shouldn't test it too often on the testing data, as we will get information\n",
        "# back flow. Shouldn't use testing until the final, use validation to optimise the model until we find the best one and then we use it on the test one. \n"
      ],
      "metadata": {
        "id": "_ezW7kdv_R8B"
      },
      "execution_count": null,
      "outputs": []
    },
    {
      "cell_type": "code",
      "source": [],
      "metadata": {
        "id": "pKTNtbIpBQrt"
      },
      "execution_count": null,
      "outputs": []
    }
  ]
}